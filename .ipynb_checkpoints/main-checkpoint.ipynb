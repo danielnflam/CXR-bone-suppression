{
 "cells": [
  {
   "cell_type": "code",
   "execution_count": null,
   "id": "d207bf5e",
   "metadata": {},
   "outputs": [],
   "source": [
    "# Implementation in PyTorch\n",
    "\n",
    "\n",
    "#ResNet-BS model:\n",
    "\n",
    "def resnet_bs(num_filters=64, num_res_blocks=16, res_block_scaling=None):\n",
    "    x_in = Input(shape=(256,256,1))\n",
    "    x = b = Conv2D(num_filters, (3, 3), padding='same')(x_in)\n",
    "    for i in range(num_res_blocks):\n",
    "        b = res_block(b, num_filters, res_block_scaling)\n",
    "    b = Conv2D(num_filters, (3, 3), padding='same')(b)\n",
    "    x = Add()([x, b])\n",
    "    x = Conv2D(1, (3, 3), padding='same')(x)\n",
    "    return Model(x_in, x, name=\"ResNet-BS\")\n",
    "\n",
    "def res_block(x_in, filters, scaling):\n",
    "    x = Conv2D(filters, (3, 3), padding='same', activation='relu')(x_in)\n",
    "    x = Conv2D(filters, (3, 3), padding='same')(x)\n",
    "    if scaling:\n",
    "        x = Lambda(lambda t: t * scaling)(x)\n",
    "    x = Add()([x_in, x])\n",
    "    return x\n",
    "\n",
    "resnet_bs = resnet_bs(num_filters=64, num_res_blocks=16, res_block_scaling=0.1)\n",
    "resnet_bs.summary()"
   ]
  }
 ],
 "metadata": {
  "kernelspec": {
   "display_name": "Python 3",
   "language": "python",
   "name": "python3"
  },
  "language_info": {
   "codemirror_mode": {
    "name": "ipython",
    "version": 3
   },
   "file_extension": ".py",
   "mimetype": "text/x-python",
   "name": "python",
   "nbconvert_exporter": "python",
   "pygments_lexer": "ipython3",
   "version": "3.6.13"
  }
 },
 "nbformat": 4,
 "nbformat_minor": 5
}
