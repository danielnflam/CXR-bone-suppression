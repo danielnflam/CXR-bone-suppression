{
 "cells": [
  {
   "cell_type": "code",
   "execution_count": 2,
   "id": "8159469a",
   "metadata": {},
   "outputs": [],
   "source": [
    "import torch\n",
    "# Load the pre-revision paper's network\n",
    "oldNet = torch.load(\"trained_network_nonEqualised.tar\")\n",
    "newNet = torch.load(\"./runs/Rajaraman_ResNet/177-20-20/10KFold/network_intermediate_5.tar\")"
   ]
  },
  {
   "cell_type": "code",
   "execution_count": 4,
   "id": "8b92507c",
   "metadata": {},
   "outputs": [
    {
     "name": "stdout",
     "output_type": "stream",
     "text": [
      "814400\n",
      "35600\n"
     ]
    }
   ],
   "source": [
    "print(oldNet['reals_shown'])\n",
    "print(newNet['reals_shown'])"
   ]
  }
 ],
 "metadata": {
  "kernelspec": {
   "display_name": "Python 3",
   "language": "python",
   "name": "python3"
  },
  "language_info": {
   "codemirror_mode": {
    "name": "ipython",
    "version": 3
   },
   "file_extension": ".py",
   "mimetype": "text/x-python",
   "name": "python",
   "nbconvert_exporter": "python",
   "pygments_lexer": "ipython3",
   "version": "3.6.13"
  }
 },
 "nbformat": 4,
 "nbformat_minor": 5
}
